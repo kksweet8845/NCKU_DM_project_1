{
 "cells": [
  {
   "cell_type": "markdown",
   "metadata": {},
   "source": [
    "# FP Growth\n"
   ]
  },
  {
   "cell_type": "code",
   "execution_count": 247,
   "metadata": {},
   "outputs": [],
   "source": [
    "import pandas as pd\n",
    "import numpy as np\n",
    "import itertools\n",
    "from sklearn.preprocessing import LabelEncoder\n",
    "from tqdm import tqdm\n",
    "import sys\n",
    "import functools\n",
    "sys.path.append('..')\n",
    "from utils.utils import flatten, is_subset_of"
   ]
  },
  {
   "cell_type": "code",
   "execution_count": 2,
   "metadata": {},
   "outputs": [],
   "source": [
    "data_path = '../data/store_data.csv'"
   ]
  },
  {
   "cell_type": "code",
   "execution_count": 556,
   "metadata": {},
   "outputs": [],
   "source": [
    "class HT :\n",
    "    def __init__(self):\n",
    "        self.ht = None\n",
    "    \n",
    "    \n",
    "    def build_ht(self, data, min_sup):\n",
    "        if self.ht == None:\n",
    "            self.ht = []\n",
    "        keys, counts = np.unique(flatten(data), return_counts=True)\n",
    "        ht_arr = np.array([(i,j) for i,j in zip(keys, counts)], dtype=[('key', int), ('counts', int)])\n",
    "        rst = np.flip(np.sort(ht_arr, order='counts'))\n",
    "        rst = filter(lambda x: x if x[1]>=min_sup else None, rst)\n",
    "        rst = [ {'info':d, 'next': None}  for d in rst]\n",
    "        self.ht = list(rst)\n",
    "    \n",
    "    def find_until_none(self, key, addr):\n",
    "        for d in self.ht:\n",
    "            if d['info'][0] == key and d['next'] != None:\n",
    "                cur = d['next']\n",
    "                while cur.next_instance != None:\n",
    "                    cur = cur.next_instance\n",
    "                cur.next_instance = addr\n",
    "                return\n",
    "            elif d['info'][0] == key and d['next'] == None:\n",
    "                d['next'] = addr\n",
    "                return\n",
    "        raise \"No wanted key it is wierd\"\n",
    "    \n",
    "    def find_key_in_ht(self, key):\n",
    "        for d in self.ht:\n",
    "            if d['info'][0] == key:\n",
    "                return d"
   ]
  },
  {
   "cell_type": "code",
   "execution_count": 577,
   "metadata": {},
   "outputs": [],
   "source": [
    "class Node :\n",
    "    def __init__(self, name):\n",
    "        self.numOfChild = 0\n",
    "        self._key = name\n",
    "        self._count = 0\n",
    "        self.next_instance = None\n",
    "        self.slots = None\n",
    "        self.parent = None\n",
    "    \n",
    "    @classmethod\n",
    "    def DFS(self, cls):\n",
    "        if cls.children == None:\n",
    "            return\n",
    "        for nkeys,value in cls.children.items():\n",
    "            print(nkeys, value.count)\n",
    "            Node.DFS(value)\n",
    "        \n",
    "    @property\n",
    "    def key(self):\n",
    "        return self._key\n",
    "    \n",
    "    @property\n",
    "    def children(self):\n",
    "        return self.slots\n",
    "    \n",
    "    @property\n",
    "    def count(self):\n",
    "        return self._count\n",
    "    @count.setter\n",
    "    def count(self, addOne):\n",
    "        self._count += addOne\n",
    "    \n",
    "    def insertNode(self, node):\n",
    "        if self.slots == None:\n",
    "            self.slots = {}\n",
    "        self.slots[node.key] = node\n",
    "        node.parent = self\n",
    "    \n",
    "    def findWithKey(self, key):\n",
    "        if self.slots == None:\n",
    "            return None\n",
    "        for nkey,value in self.slots.items():\n",
    "            if nkey == key:\n",
    "                return value\n",
    "        return None\n",
    "\n",
    "    def contain_with(self, key):\n",
    "        if self.slots == None:\n",
    "            return False\n",
    "        for nkey,value in self.slots.items():\n",
    "            if nkey == key:\n",
    "                return True\n",
    "        return False\n",
    "    \n",
    "    def __add__(self, other):\n",
    "        self.insertNode(other)\n",
    "        self.numOfChild += 1\n",
    "        other.count = 1\n",
    "        return other\n",
    "\n",
    "    def __gt__(self, other_key):\n",
    "        return self.findWithKey(other_key)\n",
    "        "
   ]
  },
  {
   "cell_type": "code",
   "execution_count": 583,
   "metadata": {},
   "outputs": [
    {
     "name": "stdout",
     "output_type": "stream",
     "text": [
      "55\n",
      "root\n",
      "55\n"
     ]
    }
   ],
   "source": [
    "root = Node('root')\n",
    "root + Node(55)\n",
    "(root > 55) + Node(77)\n",
    "child = (root > 55) > 77\n",
    "print(child.parent.key)\n",
    "print(child.parent.parent.key)\n",
    "c = (root > 55) + Node(56)\n",
    "print(c.parent.key)"
   ]
  },
  {
   "cell_type": "markdown",
   "metadata": {},
   "source": [
    "# Unit test of Node"
   ]
  },
  {
   "cell_type": "code",
   "execution_count": 558,
   "metadata": {},
   "outputs": [],
   "source": [
    "class FPEstimator(HT):\n",
    "    ''' @FPEstimator inherented from HT\n",
    "        @pro:\n",
    "            1. data\n",
    "            2. shape\n",
    "            3. l1label\n",
    "            4. Encoder\n",
    "    '''\n",
    "    def __init__(self, df_data):\n",
    "        super().__init__()\n",
    "        self.df_data = df_data\n",
    "        self.dshape = df_data.shape\n",
    "        self.le = LabelEncoder()\n",
    "        self.extract_items(df_data)\n",
    "        self.root = None\n",
    "        \n",
    "    @property\n",
    "    def data(self):\n",
    "        return self.df_data\n",
    "    @property\n",
    "    def shape(self):\n",
    "        return self.dshape\n",
    "    \n",
    "    @property\n",
    "    def l1label(self):\n",
    "        return list(zip(self.itemset, self.l1_count))\n",
    "    @property\n",
    "    def Encoder(self):\n",
    "        return self.le     \n",
    "    \n",
    "    def extract_items(self, data):\n",
    "        self.raw_items = []\n",
    "        for index, row in data.iterrows():\n",
    "            row = pd.Series(row).dropna().values\n",
    "            self.raw_items.append(np.array(row).tolist())\n",
    "        self.itemset, self.l1_count = np.unique(flatten(self.raw_items), return_counts=True)\n",
    "        self.le.fit(self.itemset)\n",
    "        self.encoded_data = [ self.le.transform(d) for d in self.raw_items ]\n",
    "    \n",
    "    def order_cmp(self,x,y):\n",
    "        return self.htl.index(x) - self.htl.index(y)\n",
    "    \n",
    "    def build_tree(self, min_sup):\n",
    "        if self.root == None:\n",
    "            self.root = Node('r')\n",
    "        self.build_ht(self.encoded_data, min_sup)\n",
    "        cur = None\n",
    "        self.rearr_data = []\n",
    "        htk = { d['info'][0] for d in self.ht }\n",
    "        self.htl = [ d['info'][0] for d in self.ht ]\n",
    "        for index, row in enumerate(self.encoded_data):\n",
    "            l = list(set(row).intersection(htk))\n",
    "            l = sorted(l,key=functools.cmp_to_key(self.order_cmp))\n",
    "            self.rearr_data.append(l)\n",
    "            \n",
    "        for index, row in enumerate(self.rearr_data):\n",
    "            cur = self.root\n",
    "            for d in row:\n",
    "                print(d, end=' ')\n",
    "                if not cur.contain_with(d):\n",
    "                    cur = cur + Node(d)\n",
    "                    self.find_until_none(d, cur)\n",
    "                else:\n",
    "                    cur = cur.findWithKey(d)\n",
    "                    cur.count = 1\n",
    "        self.min_sup = min_sup\n",
    "\n",
    "    def gen_fis(self)\n",
    "        if not hasattr(self, 'min_sup'):\n",
    "            raise Exception(\" The tree is not built in advanced. \")\n",
    "        lk = [ d['info'] for d in self.ht ]\n",
    "        \n",
    "                      \n",
    "        "
   ]
  },
  {
   "cell_type": "code",
   "execution_count": 559,
   "metadata": {},
   "outputs": [],
   "source": [
    "data_df = pd.DataFrame([['a','c','d','f','g','i','m','p'], ['a','b','c','f','i','m','o'], ['b','f', 'h', 'j','o'],['b','c','k','s','p'], ['a','c','e','f','l','m','n','p'] ])"
   ]
  },
  {
   "cell_type": "code",
   "execution_count": 560,
   "metadata": {},
   "outputs": [
    {
     "data": {
      "text/html": [
       "<div>\n",
       "<style scoped>\n",
       "    .dataframe tbody tr th:only-of-type {\n",
       "        vertical-align: middle;\n",
       "    }\n",
       "\n",
       "    .dataframe tbody tr th {\n",
       "        vertical-align: top;\n",
       "    }\n",
       "\n",
       "    .dataframe thead th {\n",
       "        text-align: right;\n",
       "    }\n",
       "</style>\n",
       "<table border=\"1\" class=\"dataframe\">\n",
       "  <thead>\n",
       "    <tr style=\"text-align: right;\">\n",
       "      <th></th>\n",
       "      <th>0</th>\n",
       "      <th>1</th>\n",
       "      <th>2</th>\n",
       "      <th>3</th>\n",
       "      <th>4</th>\n",
       "      <th>5</th>\n",
       "      <th>6</th>\n",
       "      <th>7</th>\n",
       "    </tr>\n",
       "  </thead>\n",
       "  <tbody>\n",
       "    <tr>\n",
       "      <th>0</th>\n",
       "      <td>a</td>\n",
       "      <td>c</td>\n",
       "      <td>d</td>\n",
       "      <td>f</td>\n",
       "      <td>g</td>\n",
       "      <td>i</td>\n",
       "      <td>m</td>\n",
       "      <td>p</td>\n",
       "    </tr>\n",
       "    <tr>\n",
       "      <th>1</th>\n",
       "      <td>a</td>\n",
       "      <td>b</td>\n",
       "      <td>c</td>\n",
       "      <td>f</td>\n",
       "      <td>i</td>\n",
       "      <td>m</td>\n",
       "      <td>o</td>\n",
       "      <td>None</td>\n",
       "    </tr>\n",
       "    <tr>\n",
       "      <th>2</th>\n",
       "      <td>b</td>\n",
       "      <td>f</td>\n",
       "      <td>h</td>\n",
       "      <td>j</td>\n",
       "      <td>o</td>\n",
       "      <td>None</td>\n",
       "      <td>None</td>\n",
       "      <td>None</td>\n",
       "    </tr>\n",
       "    <tr>\n",
       "      <th>3</th>\n",
       "      <td>b</td>\n",
       "      <td>c</td>\n",
       "      <td>k</td>\n",
       "      <td>s</td>\n",
       "      <td>p</td>\n",
       "      <td>None</td>\n",
       "      <td>None</td>\n",
       "      <td>None</td>\n",
       "    </tr>\n",
       "    <tr>\n",
       "      <th>4</th>\n",
       "      <td>a</td>\n",
       "      <td>c</td>\n",
       "      <td>e</td>\n",
       "      <td>f</td>\n",
       "      <td>l</td>\n",
       "      <td>m</td>\n",
       "      <td>n</td>\n",
       "      <td>p</td>\n",
       "    </tr>\n",
       "  </tbody>\n",
       "</table>\n",
       "</div>"
      ],
      "text/plain": [
       "   0  1  2  3  4     5     6     7\n",
       "0  a  c  d  f  g     i     m     p\n",
       "1  a  b  c  f  i     m     o  None\n",
       "2  b  f  h  j  o  None  None  None\n",
       "3  b  c  k  s  p  None  None  None\n",
       "4  a  c  e  f  l     m     n     p"
      ]
     },
     "execution_count": 560,
     "metadata": {},
     "output_type": "execute_result"
    }
   ],
   "source": [
    "data_df.head()"
   ]
  },
  {
   "cell_type": "code",
   "execution_count": 561,
   "metadata": {},
   "outputs": [],
   "source": [
    "fpe = FPEstimator(data_df)\n"
   ]
  },
  {
   "cell_type": "code",
   "execution_count": 562,
   "metadata": {},
   "outputs": [
    {
     "data": {
      "text/plain": [
       "[array([ 0,  2,  3,  5,  6,  8, 12, 15]),\n",
       " array([ 0,  1,  2,  5,  8, 12, 14]),\n",
       " array([ 1,  5,  7,  9, 14]),\n",
       " array([ 1,  2, 10, 16, 15]),\n",
       " array([ 0,  2,  4,  5, 11, 12, 13, 15])]"
      ]
     },
     "execution_count": 562,
     "metadata": {},
     "output_type": "execute_result"
    }
   ],
   "source": [
    "fpe.encoded_data"
   ]
  },
  {
   "cell_type": "code",
   "execution_count": 563,
   "metadata": {},
   "outputs": [
    {
     "data": {
      "text/plain": [
       "[('a', 3),\n",
       " ('b', 3),\n",
       " ('c', 4),\n",
       " ('d', 1),\n",
       " ('e', 1),\n",
       " ('f', 4),\n",
       " ('g', 1),\n",
       " ('h', 1),\n",
       " ('i', 2),\n",
       " ('j', 1),\n",
       " ('k', 1),\n",
       " ('l', 1),\n",
       " ('m', 3),\n",
       " ('n', 1),\n",
       " ('o', 2),\n",
       " ('p', 3),\n",
       " ('s', 1)]"
      ]
     },
     "execution_count": 563,
     "metadata": {},
     "output_type": "execute_result"
    }
   ],
   "source": [
    "fpe.l1label"
   ]
  },
  {
   "cell_type": "code",
   "execution_count": 584,
   "metadata": {},
   "outputs": [
    {
     "data": {
      "text/plain": [
       "[{'info': (5, 4), 'next': <__main__.Node at 0x7fab4128cf28>},\n",
       " {'info': (2, 4), 'next': <__main__.Node at 0x7fab4128c160>},\n",
       " {'info': (15, 3), 'next': <__main__.Node at 0x7fab4128cb38>},\n",
       " {'info': (12, 3), 'next': <__main__.Node at 0x7fab4128c470>},\n",
       " {'info': (1, 3), 'next': <__main__.Node at 0x7fab4128cf98>},\n",
       " {'info': (0, 3), 'next': <__main__.Node at 0x7fab4128cda0>}]"
      ]
     },
     "execution_count": 584,
     "metadata": {},
     "output_type": "execute_result"
    }
   ],
   "source": [
    "fpe.ht"
   ]
  },
  {
   "cell_type": "code",
   "execution_count": 565,
   "metadata": {},
   "outputs": [
    {
     "name": "stdout",
     "output_type": "stream",
     "text": [
      "5 2 15 12 0 5 2 12 1 0 5 1 2 15 1 5 2 15 12 0 "
     ]
    }
   ],
   "source": [
    "fpe.build_tree(3)"
   ]
  },
  {
   "cell_type": "code",
   "execution_count": 566,
   "metadata": {},
   "outputs": [
    {
     "data": {
      "text/plain": [
       "<__main__.Node at 0x7fab412865c0>"
      ]
     },
     "execution_count": 566,
     "metadata": {},
     "output_type": "execute_result"
    }
   ],
   "source": [
    "fpe.root"
   ]
  },
  {
   "cell_type": "code",
   "execution_count": 567,
   "metadata": {},
   "outputs": [
    {
     "name": "stdout",
     "output_type": "stream",
     "text": [
      "5 4\n",
      "2 3\n",
      "15 2\n",
      "12 2\n",
      "0 2\n",
      "12 1\n",
      "1 1\n",
      "0 1\n",
      "1 1\n",
      "2 1\n",
      "15 1\n",
      "1 1\n"
     ]
    }
   ],
   "source": [
    "Node.DFS(fpe.root)"
   ]
  },
  {
   "cell_type": "code",
   "execution_count": 568,
   "metadata": {},
   "outputs": [
    {
     "name": "stdout",
     "output_type": "stream",
     "text": [
      "[{'info': (5, 4), 'next': <__main__.Node object at 0x7fab4128cf28>}, {'info': (2, 4), 'next': <__main__.Node object at 0x7fab4128c160>}, {'info': (15, 3), 'next': <__main__.Node object at 0x7fab4128cb38>}, {'info': (12, 3), 'next': <__main__.Node object at 0x7fab4128c470>}, {'info': (1, 3), 'next': <__main__.Node object at 0x7fab4128cf98>}, {'info': (0, 3), 'next': <__main__.Node object at 0x7fab4128cda0>}]\n"
     ]
    }
   ],
   "source": [
    "print(fpe.ht)"
   ]
  },
  {
   "cell_type": "code",
   "execution_count": 572,
   "metadata": {},
   "outputs": [
    {
     "name": "stdout",
     "output_type": "stream",
     "text": [
      "5 4\n",
      "2 3\n",
      "2 1\n",
      "15 2\n",
      "15 1\n",
      "12 2\n",
      "12 1\n",
      "1 1\n",
      "1 1\n",
      "1 1\n",
      "0 2\n",
      "0 1\n"
     ]
    }
   ],
   "source": [
    "for d in fpe.ht:\n",
    "    cur = d['next']\n",
    "    while cur != None:\n",
    "        print(cur.key, cur.count)\n",
    "        cur = cur.next_instance\n",
    "    "
   ]
  },
  {
   "cell_type": "code",
   "execution_count": null,
   "metadata": {},
   "outputs": [],
   "source": []
  }
 ],
 "metadata": {
  "kernelspec": {
   "display_name": "Python 3",
   "language": "python",
   "name": "python3"
  },
  "language_info": {
   "codemirror_mode": {
    "name": "ipython",
    "version": 3
   },
   "file_extension": ".py",
   "mimetype": "text/x-python",
   "name": "python",
   "nbconvert_exporter": "python",
   "pygments_lexer": "ipython3",
   "version": "3.6.5"
  }
 },
 "nbformat": 4,
 "nbformat_minor": 2
}
